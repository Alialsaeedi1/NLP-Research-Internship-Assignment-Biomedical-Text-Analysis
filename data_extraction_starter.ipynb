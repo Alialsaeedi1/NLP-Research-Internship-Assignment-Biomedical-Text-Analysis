{
 "cells": [
  {
   "cell_type": "markdown",
   "metadata": {},
   "source": [
    "### NLP Research Internship Assignment Biomedical Text Analysis\n",
    "*data_extraction_starter.ipynb*"
   ]
  },
  {
   "cell_type": "code",
   "execution_count": null,
   "metadata": {},
   "outputs": [],
   "source": [
    "# Import necessary libraries\n",
    "from Bio import Entrez\n",
    "import ssl\n",
    "\n",
    "# Bypass SSL certificate verification\n",
    "ssl._create_default_https_context = ssl._create_unverified_context"
   ]
  },
  {
   "cell_type": "code",
   "execution_count": null,
   "metadata": {},
   "outputs": [],
   "source": [
    "# Function to fetch abstracts from PubMed using MeSH terms\n",
    "def fetch_abstracts(term, max_results=1000):\n",
    "    \"\"\"\n",
    "    Fetch abstracts from PubMed based on search terms.\n",
    "    \n",
    "    Parameters:\n",
    "    term (str): Search term or MeSH term for querying PubMed.\n",
    "    max_results (int): Maximum number of results to fetch.\n",
    "    \n",
    "    Returns:\n",
    "    list: A list of abstracts fetched from PubMed.\n",
    "    \"\"\"\n",
    "    \n",
    "    # Provide contact email for Entrez\n",
    "    Entrez.email = \"info@toxgensolutions.eu\"\n",
    "    \n",
    "    # Perform the search query using Entrez\n",
    "    handle = Entrez.esearch(db=\"pubmed\", term=term, retmax=max_results)\n",
    "    \n",
    "    # Read search results\n",
    "    record = Entrez.read(handle)\n",
    "    handle.close()\n",
    "    \n",
    "    # Extract PubMed IDs from the search results\n",
    "    id_list = record[\"IdList\"]\n",
    "    \n",
    "    # Check if search returned results\n",
    "    if not id_list:\n",
    "        print(\"No results found.\")\n",
    "        return []\n",
    "    \n",
    "    # Fetch abstracts based on PubMed IDs\n",
    "    handle = Entrez.efetch(db=\"pubmed\", id=id_list, rettype=\"abstract\", retmode=\"text\")\n",
    "    \n",
    "    # Read and split the abstracts\n",
    "    abstracts = handle.read().split(\"\\n\\n\")\n",
    "    handle.close()\n",
    "    \n",
    "    return abstracts"
   ]
  },
  {
   "cell_type": "code",
   "execution_count": null,
   "metadata": {},
   "outputs": [],
   "source": [
    "# Define the search term, e.g., \"Cancer Immunotherapy\"\n",
    "search_term = \"Cancer Immunotherapy\"\n",
    "\n",
    "# Fetch abstracts using the search term\n",
    "abstracts = fetch_abstracts(search_term)\n",
    "\n",
    "# Display first 5 abstracts for quick inspection (optional)\n",
    "print(\"First 5 abstracts:\\n\")\n",
    "for i, abstract in enumerate(abstracts[:5]):\n",
    "    print(f\"{i+1}. {abstract}\\n\")"
   ]
  }
 ],
 "metadata": {
  "language_info": {
   "name": "python"
  },
  "orig_nbformat": 4
 },
 "nbformat": 4,
 "nbformat_minor": 2
}
